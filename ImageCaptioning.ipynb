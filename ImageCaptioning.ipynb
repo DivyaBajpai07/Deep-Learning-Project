{
 "cells": [
  {
   "cell_type": "code",
   "execution_count": 5,
   "metadata": {
    "id": "c8BggtzUvx99",
    "executionInfo": {
     "status": "ok",
     "timestamp": 1751101157720,
     "user_tz": -330,
     "elapsed": 14,
     "user": {
      "displayName": "Divya Tiwari",
      "userId": "17355694256149448743"
     }
    }
   },
   "outputs": [],
   "source": [
    "import numpy as np\n",
    "import os\n",
    "import matplotlib.pyplot as plt\n",
    "import pickle\n",
    "import pandas as pd"
   ]
  },
  {
   "cell_type": "code",
   "source": "path = r'C:\\Pycharm\\MyProject\\ImageCaptioning'",
   "metadata": {
    "id": "zgBJqnx9w4mV",
    "colab": {
     "base_uri": "https://localhost:8080/"
    },
    "executionInfo": {
     "status": "ok",
     "timestamp": 1751101159501,
     "user_tz": -330,
     "elapsed": 1780,
     "user": {
      "displayName": "Divya Tiwari",
      "userId": "17355694256149448743"
     }
    },
    "outputId": "0d86f065-8249-4d88-9a48-66fa41fe96b0"
   },
   "execution_count": 6,
   "outputs": [
    {
     "output_type": "stream",
     "name": "stdout",
     "text": [
      "Drive already mounted at /content/drive; to attempt to forcibly remount, call drive.mount(\"/content/drive\", force_remount=True).\n"
     ]
    }
   ]
  },
  {
   "cell_type": "code",
   "execution_count": 7,
   "metadata": {
    "id": "20KtHxQNvx9_",
    "executionInfo": {
     "status": "ok",
     "timestamp": 1751101159504,
     "user_tz": -330,
     "elapsed": 2,
     "user": {
      "displayName": "Divya Tiwari",
      "userId": "17355694256149448743"
     }
    }
   },
   "outputs": [],
   "source": [
    "from tensorflow.keras.preprocessing import image, sequence\n",
    "from tensorflow.keras.applications import VGG16\n",
    "from tensorflow.keras.layers import (\n",
    "    Dense, Conv2D, Dropout, LSTM, TimeDistributed, Embedding,\n",
    "    Bidirectional, Activation, RepeatVector\n",
    ")\n",
    "from tensorflow.keras.models import Sequential, Model\n",
    "from tensorflow.keras.optimizers import Nadam\n"
   ]
  },
  {
   "cell_type": "code",
   "source": [
    "pwd"
   ],
   "metadata": {
    "id": "zfZqUgWNyfGn",
    "executionInfo": {
     "status": "ok",
     "timestamp": 1751101604343,
     "user_tz": -330,
     "elapsed": 19,
     "user": {
      "displayName": "Divya Tiwari",
      "userId": "17355694256149448743"
     }
    },
    "outputId": "b702ed54-ae3f-4ce7-d7e0-c7d130f98fbc",
    "colab": {
     "base_uri": "https://localhost:8080/",
     "height": 35
    }
   },
   "execution_count": 10,
   "outputs": [
    {
     "output_type": "execute_result",
     "data": {
      "text/plain": [
       "'/content'"
      ],
      "application/vnd.google.colaboratory.intrinsic+json": {
       "type": "string"
      }
     },
     "metadata": {},
     "execution_count": 10
    }
   ]
  },
  {
   "cell_type": "code",
   "metadata": {
    "collapsed": true,
    "id": "o1fFGdpfvx-B",
    "colab": {
     "base_uri": "https://localhost:8080/",
     "height": 211
    },
    "executionInfo": {
     "status": "error",
     "timestamp": 1751101577638,
     "user_tz": -330,
     "elapsed": 48,
     "user": {
      "displayName": "Divya Tiwari",
      "userId": "17355694256149448743"
     }
    },
    "outputId": "740aad74-8e89-478c-a556-3549e0bd40e4"
   },
   "source": [
    "images_dir = os.listdir(path + \"/Flicker8k_Dataset/\")\n",
    "\n",
    "images_path = path + '/Flicker8k_Dataset/'\n",
    "captions_path = path + '/Flickr8k_text/Flickr8k.token.txt'\n",
    "train_path = path + '/Flickr8k_text/Flickr_8k.trainImages.txt'\n",
    "val_path = path + '/Flickr8k_text/Flickr_8k.devImages.txt'\n",
    "\n",
    "captions = open(captions_path, 'r').read().split(\"\\n\")\n",
    "x_train = open(train_path, 'r').read().split(\"\\n\")\n",
    "x_test = open(val_path, 'r').read().split(\"\\n\")"
   ],
   "outputs": [],
   "execution_count": null
  },
  {
   "cell_type": "code",
   "metadata": {
    "collapsed": true,
    "id": "QOyR32tBvx-C",
    "executionInfo": {
     "status": "aborted",
     "timestamp": 1751101159554,
     "user_tz": -330,
     "elapsed": 2118,
     "user": {
      "displayName": "Divya Tiwari",
      "userId": "17355694256149448743"
     }
    }
   },
   "source": [
    "tokens = {}\n",
    "\n",
    "for ix in range(len(captions)):\n",
    "    temp = captions[ix].split(\"#\")\n",
    "    if temp[0] in tokens:\n",
    "        tokens[temp[0]].append(temp[1][2:])\n",
    "    else:\n",
    "        tokens[temp[0]] = [temp[1][2:]]"
   ],
   "outputs": [],
   "execution_count": null
  },
  {
   "cell_type": "code",
   "execution_count": null,
   "metadata": {
    "id": "CtGC10sFvx-C",
    "executionInfo": {
     "status": "aborted",
     "timestamp": 1751101159556,
     "user_tz": -330,
     "elapsed": 2118,
     "user": {
      "displayName": "Divya Tiwari",
      "userId": "17355694256149448743"
     }
    }
   },
   "outputs": [],
   "source": [
    "temp = captions[100].split(\"#\")\n",
    "from IPython.display import Image, display\n",
    "z = Image(filename=images_path+temp[0])\n",
    "display(z)\n",
    "\n",
    "for ix in range(len(tokens[temp[0]])):\n",
    "    print tokens[temp[0]][ix]"
   ]
  },
  {
   "cell_type": "code",
   "execution_count": null,
   "metadata": {
    "id": "zSOZpdfbvx-C",
    "executionInfo": {
     "status": "aborted",
     "timestamp": 1751101159581,
     "user_tz": -330,
     "elapsed": 2142,
     "user": {
      "displayName": "Divya Tiwari",
      "userId": "17355694256149448743"
     }
    }
   },
   "outputs": [],
   "source": [
    "print \"Number of Training Images {}\".format(len(x_train))"
   ]
  },
  {
   "cell_type": "code",
   "execution_count": null,
   "metadata": {
    "collapsed": true,
    "id": "xQzREqabvx-D",
    "executionInfo": {
     "status": "aborted",
     "timestamp": 1751101159583,
     "user_tz": -330,
     "elapsed": 2142,
     "user": {
      "displayName": "Divya Tiwari",
      "userId": "17355694256149448743"
     }
    }
   },
   "outputs": [],
   "source": [
    "vgg = VGG16(weights='imagenet', include_top=True, input_shape=(224,224,3))"
   ]
  },
  {
   "cell_type": "code",
   "execution_count": null,
   "metadata": {
    "collapsed": true,
    "id": "u02n_0RCvx-D",
    "executionInfo": {
     "status": "aborted",
     "timestamp": 1751101159594,
     "user_tz": -330,
     "elapsed": 2151,
     "user": {
      "displayName": "Divya Tiwari",
      "userId": "17355694256149448743"
     }
    }
   },
   "outputs": [],
   "source": [
    "def preprocess_input(img):\n",
    "    img = img[:, :, :, ::-1] #RGB to BGR\n",
    "    img[:, :, :, 0] -= 103.939\n",
    "    img[:, :, :, 1] -= 116.779\n",
    "    img[:, :, :, 2] -= 123.68\n",
    "    return img"
   ]
  },
  {
   "cell_type": "code",
   "execution_count": null,
   "metadata": {
    "collapsed": true,
    "id": "_G715LNzvx-D",
    "executionInfo": {
     "status": "aborted",
     "timestamp": 1751101159596,
     "user_tz": -330,
     "elapsed": 2152,
     "user": {
      "displayName": "Divya Tiwari",
      "userId": "17355694256149448743"
     }
    }
   },
   "outputs": [],
   "source": [
    "def preprocessing(img_path):\n",
    "    im = image.load_img(img_path, target_size=(224,224,3))\n",
    "    im = image.img_to_array(im)\n",
    "    im = np.expand_dims(im, axis=0)\n",
    "    im = preprocess_input(im)\n",
    "    return im"
   ]
  },
  {
   "cell_type": "code",
   "execution_count": null,
   "metadata": {
    "id": "a9l9ra4rvx-E",
    "executionInfo": {
     "status": "aborted",
     "timestamp": 1751101159598,
     "user_tz": -330,
     "elapsed": 2153,
     "user": {
      "displayName": "Divya Tiwari",
      "userId": "17355694256149448743"
     }
    }
   },
   "outputs": [],
   "source": [
    "vgg = Model(inputs=vgg.input, outputs=vgg.layers[-2].output)"
   ]
  },
  {
   "cell_type": "code",
   "execution_count": null,
   "metadata": {
    "collapsed": true,
    "id": "u9ndf8e7vx-E",
    "executionInfo": {
     "status": "aborted",
     "timestamp": 1751101159601,
     "user_tz": -330,
     "elapsed": 2155,
     "user": {
      "displayName": "Divya Tiwari",
      "userId": "17355694256149448743"
     }
    }
   },
   "outputs": [],
   "source": [
    "def get_encoding(model, img):\n",
    "    image = preprocessing(images_path+img)\n",
    "    pred = model.predict(image)\n",
    "    pred = np.reshape(pred, pred.shape[1])\n",
    "    return pred"
   ]
  },
  {
   "cell_type": "markdown",
   "metadata": {
    "id": "IpFwcz6Evx-E"
   },
   "source": [
    "# Building Vocabulary #"
   ]
  },
  {
   "cell_type": "code",
   "execution_count": null,
   "metadata": {
    "id": "3iQQAAc5vx-F",
    "executionInfo": {
     "status": "aborted",
     "timestamp": 1751101159602,
     "user_tz": -330,
     "elapsed": 2155,
     "user": {
      "displayName": "Divya Tiwari",
      "userId": "17355694256149448743"
     }
    }
   },
   "outputs": [],
   "source": [
    "pd_dataset = pd.read_csv(path+\"/Flickr8k_text/flickr_8k_train_dataset.txt\", delimiter='\\t')\n",
    "ds = pd_dataset.values\n",
    "print ds.shape"
   ]
  },
  {
   "cell_type": "code",
   "execution_count": null,
   "metadata": {
    "id": "Ns8bfldCvx-F",
    "executionInfo": {
     "status": "aborted",
     "timestamp": 1751101159603,
     "user_tz": -330,
     "elapsed": 2155,
     "user": {
      "displayName": "Divya Tiwari",
      "userId": "17355694256149448743"
     }
    }
   },
   "outputs": [],
   "source": [
    "sentences = []\n",
    "for ix in range(ds.shape[0]):\n",
    "    sentences.append(ds[ix, 1])\n",
    "\n",
    "print len(sentences)"
   ]
  },
  {
   "cell_type": "code",
   "execution_count": null,
   "metadata": {
    "collapsed": true,
    "id": "4DG1cMNBvx-G",
    "executionInfo": {
     "status": "aborted",
     "timestamp": 1751101159603,
     "user_tz": -330,
     "elapsed": 2154,
     "user": {
      "displayName": "Divya Tiwari",
      "userId": "17355694256149448743"
     }
    }
   },
   "outputs": [],
   "source": [
    "words = [i.split() for i in sentences]"
   ]
  },
  {
   "cell_type": "code",
   "execution_count": null,
   "metadata": {
    "collapsed": true,
    "id": "MoI6dFdHvx-G",
    "executionInfo": {
     "status": "aborted",
     "timestamp": 1751101159604,
     "user_tz": -330,
     "elapsed": 2154,
     "user": {
      "displayName": "Divya Tiwari",
      "userId": "17355694256149448743"
     }
    }
   },
   "outputs": [],
   "source": [
    "unique = []\n",
    "for i in words:\n",
    "    unique.extend(i)"
   ]
  },
  {
   "cell_type": "code",
   "execution_count": null,
   "metadata": {
    "id": "yZU3erwTvx-G",
    "executionInfo": {
     "status": "aborted",
     "timestamp": 1751101159604,
     "user_tz": -330,
     "elapsed": 2153,
     "user": {
      "displayName": "Divya Tiwari",
      "userId": "17355694256149448743"
     }
    }
   },
   "outputs": [],
   "source": [
    "print len(unique)"
   ]
  },
  {
   "cell_type": "code",
   "execution_count": null,
   "metadata": {
    "id": "kO4piMLvvx-H",
    "executionInfo": {
     "status": "aborted",
     "timestamp": 1751101159605,
     "user_tz": -330,
     "elapsed": 2153,
     "user": {
      "displayName": "Divya Tiwari",
      "userId": "17355694256149448743"
     }
    }
   },
   "outputs": [],
   "source": [
    "unique = list(set(unique))\n",
    "print len(unique)\n",
    "\n",
    "vocab_size = len(unique)"
   ]
  },
  {
   "cell_type": "code",
   "execution_count": null,
   "metadata": {
    "collapsed": true,
    "id": "yQVTXL2Mvx-H",
    "executionInfo": {
     "status": "aborted",
     "timestamp": 1751101159606,
     "user_tz": -330,
     "elapsed": 2153,
     "user": {
      "displayName": "Divya Tiwari",
      "userId": "17355694256149448743"
     }
    }
   },
   "outputs": [],
   "source": [
    "word_2_indices = {val:index for index, val in enumerate(unique)}\n",
    "indices_2_word = {index:val for index, val in enumerate(unique)}"
   ]
  },
  {
   "cell_type": "code",
   "execution_count": null,
   "metadata": {
    "id": "vrZWOs7Zvx-H",
    "executionInfo": {
     "status": "aborted",
     "timestamp": 1751101159607,
     "user_tz": -330,
     "elapsed": 2153,
     "user": {
      "displayName": "Divya Tiwari",
      "userId": "17355694256149448743"
     }
    }
   },
   "outputs": [],
   "source": [
    "print word_2_indices['<start>']\n",
    "print indices_2_word[4011]"
   ]
  },
  {
   "cell_type": "code",
   "execution_count": null,
   "metadata": {
    "id": "uryO389cvx-H",
    "executionInfo": {
     "status": "aborted",
     "timestamp": 1751101159609,
     "user_tz": -330,
     "elapsed": 2154,
     "user": {
      "displayName": "Divya Tiwari",
      "userId": "17355694256149448743"
     }
    }
   },
   "outputs": [],
   "source": [
    "max_len = 0\n",
    "\n",
    "for i in sentences:\n",
    "    i = i.split()\n",
    "    if len(i) > max_len:\n",
    "        max_len = len(i)\n",
    "\n",
    "print max_len"
   ]
  },
  {
   "cell_type": "markdown",
   "metadata": {
    "id": "M1bHWd-Cvx-I"
   },
   "source": [
    "# Let's see the Model in action #"
   ]
  },
  {
   "cell_type": "code",
   "execution_count": null,
   "metadata": {
    "id": "SiJIFpKuvx-I",
    "executionInfo": {
     "status": "aborted",
     "timestamp": 1751101159623,
     "user_tz": -330,
     "elapsed": 2167,
     "user": {
      "displayName": "Divya Tiwari",
      "userId": "17355694256149448743"
     }
    }
   },
   "outputs": [],
   "source": [
    "captions = np.load(path+\"/captions.npy\")\n",
    "next_words = np.load(path+\"/next_words.npy\")\n",
    "\n",
    "print captions.shape\n",
    "print next_words.shape"
   ]
  },
  {
   "cell_type": "code",
   "execution_count": null,
   "metadata": {
    "id": "XNc4VNVNvx-I",
    "executionInfo": {
     "status": "aborted",
     "timestamp": 1751101159625,
     "user_tz": -330,
     "elapsed": 2167,
     "user": {
      "displayName": "Divya Tiwari",
      "userId": "17355694256149448743"
     }
    }
   },
   "outputs": [],
   "source": [
    "images = np.load(path+\"/images.npy\")\n",
    "\n",
    "print images.shape"
   ]
  },
  {
   "cell_type": "code",
   "execution_count": null,
   "metadata": {
    "id": "q7kn0asYvx-I",
    "executionInfo": {
     "status": "aborted",
     "timestamp": 1751101159626,
     "user_tz": -330,
     "elapsed": 2166,
     "user": {
      "displayName": "Divya Tiwari",
      "userId": "17355694256149448743"
     }
    }
   },
   "outputs": [],
   "source": [
    "images = np.load(path+\"/image_names.npy\")\n",
    "\n",
    "print len(image_names)"
   ]
  },
  {
   "cell_type": "code",
   "execution_count": null,
   "metadata": {
    "collapsed": true,
    "id": "pp6s0k2Ovx-I",
    "executionInfo": {
     "status": "aborted",
     "timestamp": 1751101159628,
     "user_tz": -330,
     "elapsed": 2167,
     "user": {
      "displayName": "Divya Tiwari",
      "userId": "17355694256149448743"
     }
    }
   },
   "outputs": [],
   "source": [
    "embedding_size = 128"
   ]
  },
  {
   "cell_type": "code",
   "execution_count": null,
   "metadata": {
    "id": "PuQq7XN_vx-I",
    "executionInfo": {
     "status": "aborted",
     "timestamp": 1751101159631,
     "user_tz": -330,
     "elapsed": 2169,
     "user": {
      "displayName": "Divya Tiwari",
      "userId": "17355694256149448743"
     }
    }
   },
   "outputs": [],
   "source": [
    "image_model = Sequential()\n",
    "\n",
    "image_model.add(Dense(embedding_size, input_shape=(4096,), activation='relu'))\n",
    "image_model.add(RepeatVector(max_len))\n",
    "\n",
    "image_model.summary()"
   ]
  },
  {
   "cell_type": "code",
   "execution_count": null,
   "metadata": {
    "id": "guq_M3Fyvx-J",
    "executionInfo": {
     "status": "aborted",
     "timestamp": 1751101159632,
     "user_tz": -330,
     "elapsed": 2169,
     "user": {
      "displayName": "Divya Tiwari",
      "userId": "17355694256149448743"
     }
    }
   },
   "outputs": [],
   "source": [
    "language_model = Sequential()\n",
    "\n",
    "language_model.add(Embedding(input_dim=vocab_size, output_dim=embedding_size, input_length=max_len))\n",
    "language_model.add(LSTM(256, return_sequences=True))\n",
    "language_model.add(TimeDistributed(Dense(embedding_size)))\n",
    "\n",
    "language_model.summary()"
   ]
  },
  {
   "cell_type": "code",
   "execution_count": null,
   "metadata": {
    "id": "auoc_i00vx-J",
    "executionInfo": {
     "status": "aborted",
     "timestamp": 1751101159632,
     "user_tz": -330,
     "elapsed": 2168,
     "user": {
      "displayName": "Divya Tiwari",
      "userId": "17355694256149448743"
     }
    }
   },
   "outputs": [],
   "source": [
    "model = Sequential()\n",
    "\n",
    "model.add(Merge([image_model, language_model], mode='concat', concat_axis=-1))\n",
    "model.add(LSTM(1000, return_sequences=False))\n",
    "model.add(Dense(vocab_size))\n",
    "model.add(Activation('softmax'))\n",
    "\n",
    "model.load_weights(path+\"/model_weights.h5\")\n",
    "model.compile(loss='categorical_crossentropy', optimizer=Nadam(), metrics=['accuracy'])\n",
    "model.summary()"
   ]
  },
  {
   "cell_type": "code",
   "execution_count": null,
   "metadata": {
    "scrolled": true,
    "id": "O0ot9UiNvx-J",
    "executionInfo": {
     "status": "aborted",
     "timestamp": 1751101159633,
     "user_tz": -330,
     "elapsed": 2168,
     "user": {
      "displayName": "Divya Tiwari",
      "userId": "17355694256149448743"
     }
    }
   },
   "outputs": [],
   "source": [
    "# def scheduler(epoch):\n",
    "#     if epoch%2==0 and epoch!=0:\n",
    "#         lr = K.get_value(model.optimizer.lr)\n",
    "#         K.set_value(model.optimizer.lr, lr*.9)\n",
    "#         print(\"lr changed to {}\".format(lr*.9))\n",
    "#     return K.get_value(model.optimizer.lr)\n",
    "\n",
    "# lr_decay = LearningRateScheduler(scheduler)\n",
    "\n",
    "model.fit([images, captions], next_words, batch_size=512, epochs=50)"
   ]
  },
  {
   "cell_type": "code",
   "execution_count": null,
   "metadata": {
    "collapsed": true,
    "id": "trK8dm_svx-J",
    "executionInfo": {
     "status": "aborted",
     "timestamp": 1751101159634,
     "user_tz": -330,
     "elapsed": 2168,
     "user": {
      "displayName": "Divya Tiwari",
      "userId": "17355694256149448743"
     }
    }
   },
   "outputs": [],
   "source": "model.save_weights(path+\"/model_weights.h5\")"
  },
  {
   "cell_type": "markdown",
   "metadata": {
    "id": "35WVTmAYvx-J"
   },
   "source": [
    "# Prediction on test images #"
   ]
  },
  {
   "cell_type": "code",
   "execution_count": null,
   "metadata": {
    "id": "4cwgKiHsvx-J",
    "executionInfo": {
     "status": "aborted",
     "timestamp": 1751101159635,
     "user_tz": -330,
     "elapsed": 2168,
     "user": {
      "displayName": "Divya Tiwari",
      "userId": "17355694256149448743"
     }
    }
   },
   "outputs": [],
   "source": [
    "img = path+\"3320032226_63390d74a6.jpg\"\n",
    "\n",
    "test_img = get_encoding(vgg, img)\n",
    "\n",
    "z = Image(filename=images_path+img)\n",
    "display(z)"
   ]
  },
  {
   "cell_type": "code",
   "execution_count": null,
   "metadata": {
    "collapsed": true,
    "id": "_ogijl_tvx-K",
    "executionInfo": {
     "status": "aborted",
     "timestamp": 1751101159636,
     "user_tz": -330,
     "elapsed": 2168,
     "user": {
      "displayName": "Divya Tiwari",
      "userId": "17355694256149448743"
     }
    }
   },
   "outputs": [],
   "source": [
    "def predict_captions(image):\n",
    "    start_word = [\"<start>\"]\n",
    "    while True:\n",
    "        par_caps = [word_2_indices[i] for i in start_word]\n",
    "        par_caps = sequence.pad_sequences([par_caps], maxlen=max_len, padding='post')\n",
    "        preds = model.predict([np.array([image]), np.array(par_caps)])\n",
    "        word_pred = indices_2_word[np.argmax(preds[0])]\n",
    "        start_word.append(word_pred)\n",
    "\n",
    "        if word_pred == \"<end>\" or len(start_word) > max_len:\n",
    "            break\n",
    "\n",
    "    return ' '.join(start_word[1:-1])\n",
    "\n",
    "Argmax_Search = predict_captions(test_img)"
   ]
  },
  {
   "cell_type": "code",
   "execution_count": null,
   "metadata": {
    "collapsed": true,
    "id": "VDJGQFMcvx-K",
    "executionInfo": {
     "status": "aborted",
     "timestamp": 1751101159636,
     "user_tz": -330,
     "elapsed": 2166,
     "user": {
      "displayName": "Divya Tiwari",
      "userId": "17355694256149448743"
     }
    }
   },
   "outputs": [],
   "source": [
    "def beam_search_predictions(image, beam_index = 3):\n",
    "    start = [word_2_indices[\"<start>\"]]\n",
    "\n",
    "    start_word = [[start, 0.0]]\n",
    "\n",
    "    while len(start_word[0][0]) < max_len:\n",
    "        temp = []\n",
    "        for s in start_word:\n",
    "            par_caps = sequence.pad_sequences([s[0]], maxlen=max_len, padding='post')\n",
    "            preds = model.predict([np.array([image]), np.array(par_caps)])\n",
    "\n",
    "            word_preds = np.argsort(preds[0])[-beam_index:] #Top n prediction\n",
    "\n",
    "            for w in word_preds: #new list so as to feed it to model again\n",
    "                next_cap, prob = s[0][:], s[1]\n",
    "                next_cap.append(w)\n",
    "                prob += preds[0][w]\n",
    "                temp.append([next_cap, prob])\n",
    "\n",
    "        start_word = temp\n",
    "        start_word = sorted(start_word, reverse=False, key=lambda l: l[1])\n",
    "        start_word = start_word[-beam_index:] # Top n words\n",
    "\n",
    "    start_word = start_word[-1][0]\n",
    "    intermediate_caption = [indices_2_word[i] for i in start_word]\n",
    "\n",
    "    final_caption = []\n",
    "\n",
    "    for i in intermediate_caption:\n",
    "        if i != '<end>':\n",
    "            final_caption.append(i)\n",
    "        else:\n",
    "            break\n",
    "\n",
    "    final_caption = ' '.join(final_caption[1:])\n",
    "    return final_caption\n",
    "\n",
    "\n",
    "Beam_Search_index_3 = beam_search_predictions(test_img, beam_index=3)\n",
    "Beam_Search_index_5 = beam_search_predictions(test_img, beam_index=5)\n",
    "Beam_Search_index_7 = beam_search_predictions(test_img, beam_index=7)"
   ]
  },
  {
   "cell_type": "code",
   "execution_count": null,
   "metadata": {
    "id": "wB-H3j7xvx-K",
    "executionInfo": {
     "status": "aborted",
     "timestamp": 1751101159637,
     "user_tz": -330,
     "elapsed": 2165,
     "user": {
      "displayName": "Divya Tiwari",
      "userId": "17355694256149448743"
     }
    }
   },
   "outputs": [],
   "source": [
    "print \"Agrmax Prediction : \",\n",
    "print Argmax_Search\n",
    "print \"Beam Search Prediction with Index = 3 : \",\n",
    "print Beam_Search_index_3\n",
    "print \"Beam Search Prediction with Index = 5 : \",\n",
    "print Beam_Search_index_5\n",
    "print \"Beam Search Prediction with Index = 7 : \",\n",
    "print Beam_Search_index_7"
   ]
  },
  {
   "cell_type": "code",
   "execution_count": null,
   "metadata": {
    "id": "l9LJCIIzvx-K",
    "executionInfo": {
     "status": "aborted",
     "timestamp": 1751101159637,
     "user_tz": -330,
     "elapsed": 2164,
     "user": {
      "displayName": "Divya Tiwari",
      "userId": "17355694256149448743"
     }
    }
   },
   "outputs": [],
   "source": [
    "display(z)"
   ]
  },
  {
   "cell_type": "code",
   "execution_count": null,
   "metadata": {
    "collapsed": true,
    "id": "KxF_2Imyvx-K",
    "executionInfo": {
     "status": "aborted",
     "timestamp": 1751101159647,
     "user_tz": -330,
     "elapsed": 2172,
     "user": {
      "displayName": "Divya Tiwari",
      "userId": "17355694256149448743"
     }
    }
   },
   "outputs": [],
   "source": []
  }
 ],
 "metadata": {
  "kernelspec": {
   "display_name": "Python 3",
   "name": "python3"
  },
  "language_info": {
   "name": "python"
  },
  "colab": {
   "provenance": []
  }
 },
 "nbformat": 4,
 "nbformat_minor": 0
}
